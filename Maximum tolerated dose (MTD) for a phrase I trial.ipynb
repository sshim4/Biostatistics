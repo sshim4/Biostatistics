{
 "cells": [
  {
   "cell_type": "markdown",
   "id": "f1cd3726",
   "metadata": {},
   "source": [
    "# Find an Maximum tolerated dose (MTD) for a phrase I trial"
   ]
  },
  {
   "cell_type": "markdown",
   "id": "241cb37f",
   "metadata": {},
   "source": [
    "* 20 patients are enrolled, the probability that a patient would experience DLT can be simulated via a uniform distribution on [0,1].\n",
    "* Target TLL=0.25\n",
    "* $DTL = 1$ if $u \\leq True[MTD]$, else $0$ <br>  where $ u \\sim uniform[0,1]$"
   ]
  },
  {
   "cell_type": "code",
   "execution_count": 2,
   "id": "fe85dea6",
   "metadata": {},
   "outputs": [
    {
     "name": "stdout",
     "output_type": "stream",
     "text": [
      "package 'CRM' successfully unpacked and MD5 sums checked\n",
      "\n",
      "The downloaded binary packages are in\n",
      "\tC:\\Users\\shims\\AppData\\Local\\Temp\\Rtmp2tEhiV\\downloaded_packages\n"
     ]
    }
   ],
   "source": [
    "install.packages('CRM')"
   ]
  },
  {
   "cell_type": "code",
   "execution_count": 3,
   "id": "7b309c86",
   "metadata": {},
   "outputs": [],
   "source": [
    "library(CRM)"
   ]
  },
  {
   "cell_type": "markdown",
   "id": "4a523120",
   "metadata": {},
   "source": [
    "Continual Reassessment Method (CRM) for Phase I Clinical Trials"
   ]
  },
  {
   "cell_type": "markdown",
   "id": "5d31104a",
   "metadata": {},
   "source": [
    "https://cran.r-project.org/web/packages/CRM/CRM.pdf"
   ]
  },
  {
   "cell_type": "markdown",
   "id": "65e7ccf6",
   "metadata": {},
   "source": [
    "## 1. Data preperation"
   ]
  },
  {
   "cell_type": "markdown",
   "id": "d80ed075",
   "metadata": {},
   "source": [
    "* prior : prior probability\n",
    "* d: dose level , we use hyperbolic tangent model with a=1.\n",
    "* true: True probability"
   ]
  },
  {
   "cell_type": "code",
   "execution_count": 5,
   "id": "e0aeb1e8",
   "metadata": {},
   "outputs": [],
   "source": [
    "prior <- c(0.04, 0.11, 0.25, 0.42, 0.58, 0.7, 0.8)\n",
    "d <- -log(1/(prior)-1)/2 # hyperbolic tangent model, a=1.\n",
    "true <- c(0.02, 0.07, 0.2, 0.39, 0.57, 0.7, 0.78)"
   ]
  },
  {
   "cell_type": "markdown",
   "id": "5a38143f",
   "metadata": {},
   "source": [
    "## 2. Run simulation"
   ]
  },
  {
   "cell_type": "code",
   "execution_count": 11,
   "id": "afd05869",
   "metadata": {},
   "outputs": [],
   "source": [
    "ptdata <- c()\n",
    "u <- c()\n",
    "MTD_true<- c()\n",
    "\n",
    "set.seed(123)\n",
    "\n",
    "for(i in 1:20) {\n",
    "      if (i==1) {\n",
    "        u[i] <- runif(1,0,1)\n",
    "        MTD_true[i]<-true[1]\n",
    "        DLT <- sum(u<=true[1])\n",
    "        ptdata <- rbind(ptdata, c(1,DLT))\n",
    "        res <- CRM::crm(target=0.25, prior, ptdata, model=1)\n",
    "        a <- res$a\n",
    "        prob.hyperbolic <-(exp(d)/(exp(d)+exp(-d)))^a\n",
    "        res$MTD\n",
    "  } else {\n",
    "        u[i] <- runif(1,0,1)\n",
    "        DLT <- sum(u<=true[res$MTD])\n",
    "        MTD_true[i]<-true[res$MTD]\n",
    "        ptdata <- rbind(ptdata, c(res$MTD,DLT))\n",
    "        res <- CRM::crm(target=0.25, prior, ptdata, model=1)\n",
    "        a <- res$a\n",
    "        prob.hyperbolic <-(exp(d)/(exp(d)+exp(-d)))^a\n",
    "        res$MTD\n",
    "  }  \n",
    "}"
   ]
  },
  {
   "cell_type": "code",
   "execution_count": 12,
   "id": "4b4e8a06",
   "metadata": {},
   "outputs": [
    {
     "data": {
      "text/html": [
       "<table class=\"dataframe\">\n",
       "<caption>A matrix: 20 × 4 of type dbl</caption>\n",
       "<thead>\n",
       "\t<tr><th scope=col>u</th><th scope=col>true[MTD]</th><th scope=col>MTD</th><th scope=col>DLT</th></tr>\n",
       "</thead>\n",
       "<tbody>\n",
       "\t<tr><td>0.28757752</td><td>0.02</td><td>1</td><td>0</td></tr>\n",
       "\t<tr><td>0.78830514</td><td>0.20</td><td>3</td><td>0</td></tr>\n",
       "\t<tr><td>0.40897692</td><td>0.39</td><td>4</td><td>1</td></tr>\n",
       "\t<tr><td>0.88301740</td><td>0.20</td><td>3</td><td>0</td></tr>\n",
       "\t<tr><td>0.94046728</td><td>0.20</td><td>3</td><td>0</td></tr>\n",
       "\t<tr><td>0.04555650</td><td>0.20</td><td>3</td><td>1</td></tr>\n",
       "\t<tr><td>0.52810549</td><td>0.20</td><td>3</td><td>1</td></tr>\n",
       "\t<tr><td>0.89241904</td><td>0.07</td><td>2</td><td>1</td></tr>\n",
       "\t<tr><td>0.55143501</td><td>0.02</td><td>1</td><td>0</td></tr>\n",
       "\t<tr><td>0.45661474</td><td>0.07</td><td>2</td><td>1</td></tr>\n",
       "\t<tr><td>0.95683335</td><td>0.02</td><td>1</td><td>0</td></tr>\n",
       "\t<tr><td>0.45333416</td><td>0.02</td><td>1</td><td>0</td></tr>\n",
       "\t<tr><td>0.67757064</td><td>0.02</td><td>1</td><td>0</td></tr>\n",
       "\t<tr><td>0.57263340</td><td>0.07</td><td>2</td><td>1</td></tr>\n",
       "\t<tr><td>0.10292468</td><td>0.02</td><td>1</td><td>0</td></tr>\n",
       "\t<tr><td>0.89982497</td><td>0.02</td><td>1</td><td>0</td></tr>\n",
       "\t<tr><td>0.24608773</td><td>0.02</td><td>1</td><td>0</td></tr>\n",
       "\t<tr><td>0.04205953</td><td>0.07</td><td>2</td><td>2</td></tr>\n",
       "\t<tr><td>0.32792072</td><td>0.02</td><td>1</td><td>0</td></tr>\n",
       "\t<tr><td>0.95450365</td><td>0.02</td><td>1</td><td>0</td></tr>\n",
       "</tbody>\n",
       "</table>\n"
      ],
      "text/latex": [
       "A matrix: 20 × 4 of type dbl\n",
       "\\begin{tabular}{llll}\n",
       " u & true{[}MTD{]} & MTD & DLT\\\\\n",
       "\\hline\n",
       "\t 0.28757752 & 0.02 & 1 & 0\\\\\n",
       "\t 0.78830514 & 0.20 & 3 & 0\\\\\n",
       "\t 0.40897692 & 0.39 & 4 & 1\\\\\n",
       "\t 0.88301740 & 0.20 & 3 & 0\\\\\n",
       "\t 0.94046728 & 0.20 & 3 & 0\\\\\n",
       "\t 0.04555650 & 0.20 & 3 & 1\\\\\n",
       "\t 0.52810549 & 0.20 & 3 & 1\\\\\n",
       "\t 0.89241904 & 0.07 & 2 & 1\\\\\n",
       "\t 0.55143501 & 0.02 & 1 & 0\\\\\n",
       "\t 0.45661474 & 0.07 & 2 & 1\\\\\n",
       "\t 0.95683335 & 0.02 & 1 & 0\\\\\n",
       "\t 0.45333416 & 0.02 & 1 & 0\\\\\n",
       "\t 0.67757064 & 0.02 & 1 & 0\\\\\n",
       "\t 0.57263340 & 0.07 & 2 & 1\\\\\n",
       "\t 0.10292468 & 0.02 & 1 & 0\\\\\n",
       "\t 0.89982497 & 0.02 & 1 & 0\\\\\n",
       "\t 0.24608773 & 0.02 & 1 & 0\\\\\n",
       "\t 0.04205953 & 0.07 & 2 & 2\\\\\n",
       "\t 0.32792072 & 0.02 & 1 & 0\\\\\n",
       "\t 0.95450365 & 0.02 & 1 & 0\\\\\n",
       "\\end{tabular}\n"
      ],
      "text/markdown": [
       "\n",
       "A matrix: 20 × 4 of type dbl\n",
       "\n",
       "| u | true[MTD] | MTD | DLT |\n",
       "|---|---|---|---|\n",
       "| 0.28757752 | 0.02 | 1 | 0 |\n",
       "| 0.78830514 | 0.20 | 3 | 0 |\n",
       "| 0.40897692 | 0.39 | 4 | 1 |\n",
       "| 0.88301740 | 0.20 | 3 | 0 |\n",
       "| 0.94046728 | 0.20 | 3 | 0 |\n",
       "| 0.04555650 | 0.20 | 3 | 1 |\n",
       "| 0.52810549 | 0.20 | 3 | 1 |\n",
       "| 0.89241904 | 0.07 | 2 | 1 |\n",
       "| 0.55143501 | 0.02 | 1 | 0 |\n",
       "| 0.45661474 | 0.07 | 2 | 1 |\n",
       "| 0.95683335 | 0.02 | 1 | 0 |\n",
       "| 0.45333416 | 0.02 | 1 | 0 |\n",
       "| 0.67757064 | 0.02 | 1 | 0 |\n",
       "| 0.57263340 | 0.07 | 2 | 1 |\n",
       "| 0.10292468 | 0.02 | 1 | 0 |\n",
       "| 0.89982497 | 0.02 | 1 | 0 |\n",
       "| 0.24608773 | 0.02 | 1 | 0 |\n",
       "| 0.04205953 | 0.07 | 2 | 2 |\n",
       "| 0.32792072 | 0.02 | 1 | 0 |\n",
       "| 0.95450365 | 0.02 | 1 | 0 |\n",
       "\n"
      ],
      "text/plain": [
       "      u          true[MTD] MTD DLT\n",
       " [1,] 0.28757752 0.02      1   0  \n",
       " [2,] 0.78830514 0.20      3   0  \n",
       " [3,] 0.40897692 0.39      4   1  \n",
       " [4,] 0.88301740 0.20      3   0  \n",
       " [5,] 0.94046728 0.20      3   0  \n",
       " [6,] 0.04555650 0.20      3   1  \n",
       " [7,] 0.52810549 0.20      3   1  \n",
       " [8,] 0.89241904 0.07      2   1  \n",
       " [9,] 0.55143501 0.02      1   0  \n",
       "[10,] 0.45661474 0.07      2   1  \n",
       "[11,] 0.95683335 0.02      1   0  \n",
       "[12,] 0.45333416 0.02      1   0  \n",
       "[13,] 0.67757064 0.02      1   0  \n",
       "[14,] 0.57263340 0.07      2   1  \n",
       "[15,] 0.10292468 0.02      1   0  \n",
       "[16,] 0.89982497 0.02      1   0  \n",
       "[17,] 0.24608773 0.02      1   0  \n",
       "[18,] 0.04205953 0.07      2   2  \n",
       "[19,] 0.32792072 0.02      1   0  \n",
       "[20,] 0.95450365 0.02      1   0  "
      ]
     },
     "metadata": {},
     "output_type": "display_data"
    }
   ],
   "source": [
    "patient_data<- cbind(u,MTD_true,ptdata)\n",
    "colnames(patient_data) <- c(\"u\",\"true[MTD]\",\"MTD\",\"DLT\")\n",
    "\n",
    "patient_data\n"
   ]
  },
  {
   "cell_type": "markdown",
   "id": "6fd1ca14",
   "metadata": {},
   "source": [
    "Result: MTD=1 by the 20 patient's simlation."
   ]
  },
  {
   "cell_type": "code",
   "execution_count": null,
   "id": "1644c894",
   "metadata": {},
   "outputs": [],
   "source": []
  }
 ],
 "metadata": {
  "kernelspec": {
   "display_name": "R",
   "language": "R",
   "name": "ir"
  },
  "language_info": {
   "codemirror_mode": "r",
   "file_extension": ".r",
   "mimetype": "text/x-r-source",
   "name": "R",
   "pygments_lexer": "r",
   "version": "4.1.3"
  }
 },
 "nbformat": 4,
 "nbformat_minor": 5
}
